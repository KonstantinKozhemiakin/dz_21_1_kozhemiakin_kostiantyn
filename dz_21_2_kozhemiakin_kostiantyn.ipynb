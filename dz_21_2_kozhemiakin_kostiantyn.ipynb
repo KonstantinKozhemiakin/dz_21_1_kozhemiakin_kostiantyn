{
 "cells": [
  {
   "cell_type": "markdown",
   "id": "2e4a25ac",
   "metadata": {},
   "source": [
    "# Елементарні перетворення матриці (приклад) 1\n",
    "\n",
    "## Приклад. \n",
    "### Використовуючи елементарні перетворення рядків, перетворити матрицю A в верхню трикутну матрицю, де:\n",
    "\n",
    "\n",
    "![Alt-текст](image/1.jpg \"Картинка першого перетворення\")\n",
    "\n",
    "## Розвязок:\n",
    "### поміняємо перший та другий рядок місцями\n",
    "\n",
    "![Alt-текст](image/2.jpg \"Картинка другого перетворення\")\n"
   ]
  },
  {
   "cell_type": "code",
   "execution_count": null,
   "id": "1c6988f4",
   "metadata": {
    "pycharm": {
     "is_executing": true
    }
   },
   "outputs": [],
   "source": []
  }
 ],
 "metadata": {
  "kernelspec": {
   "display_name": "Python 3",
   "language": "python",
   "name": "python3"
  },
  "language_info": {
   "codemirror_mode": {
    "name": "ipython",
    "version": 3
   },
   "file_extension": ".py",
   "mimetype": "text/x-python",
   "name": "python",
   "nbconvert_exporter": "python",
   "pygments_lexer": "ipython3",
   "version": "3.9.1"
  }
 },
 "nbformat": 4,
 "nbformat_minor": 5
}
